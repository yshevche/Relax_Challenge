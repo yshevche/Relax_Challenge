{
 "cells": [
  {
   "cell_type": "markdown",
   "id": "275c7631-41e2-442e-ab3f-1fde79679909",
   "metadata": {},
   "source": [
    "## Relax Challenge Write Up "
   ]
  },
  {
   "cell_type": "markdown",
   "id": "980b3908-a6fb-43fb-9839-0b719db96304",
   "metadata": {},
   "source": [
    "### Problem Identification"
   ]
  },
  {
   "cell_type": "markdown",
   "id": "d168fe18-a483-4661-97f2-4b0258a8a625",
   "metadata": {},
   "source": [
    "For this challenge the problem was defined as what is necessary to predict user adoption. Where adoption is defined as someone who has used the product in three separate days in a seven day period.\n",
    "The data was provided in two csv files, one had 12,000 users who signed up for the product in the last two years. The other was a summary table that had rows for each day that a user logged into the product. "
   ]
  },
  {
   "cell_type": "markdown",
   "id": "3f8f074f-9bfa-4f9a-bc84-96340010427d",
   "metadata": {},
   "source": [
    "#### Data Wrangling "
   ]
  },
  {
   "cell_type": "markdown",
   "id": "1d780dc9-b4e7-40cc-85cd-790ca970b475",
   "metadata": {},
   "source": [
    "The data came in two csv files and needed to be merged. The overall cleaning required some conversion to datetime objects and filling in the missing values for a few columns. I also excluded columns that had individuals private information such as name and email. "
   ]
  },
  {
   "cell_type": "markdown",
   "id": "faf2c310-0cbd-4a1c-aaac-364a7c20c175",
   "metadata": {},
   "source": [
    "#### Exploratory Data Analysis"
   ]
  },
  {
   "cell_type": "markdown",
   "id": "7ee53c18-cebe-423a-879e-597a139946c1",
   "metadata": {},
   "source": [
    "Inititally I created a column that counted the amount of logins a user had made. This summarized the users that had used the product the most in comparision to those that only made an account. I also created an adoption column that in binary terms yes(1) and no(0), labeled individuals that had logged in three consecutive times over a seven day period. I looked at some descriptive statistics to compare the different groups of categories and it stood out to me that 25% opted in for the mailing list of this company. Looking at a correlation plot it was interesting to see that there was a 52% correlation between a invited_by_user_id and ORG_INVITE. There was also a 47% correlation between enabled_for_marketing_drip and opted_in_to_mailing_list. Overall it was interesting to uderstand the distribution of the data and identifying patterns. "
   ]
  },
  {
   "cell_type": "markdown",
   "id": "a84acb79-7cd8-42d9-a83e-c99aa116d2cc",
   "metadata": {},
   "source": [
    "#### Pre-Processing & Modeling "
   ]
  },
  {
   "cell_type": "markdown",
   "id": "445cdda2-26c4-4ce5-8ebf-5c30a930e801",
   "metadata": {},
   "source": [
    "The categorical data was one-hot-encoded and I removed the datetime variables for modeling, since the Adoption column pretty much summarized that for us. The target variable being the Adoption column and the featured variables being the remaining columns left in the dataframe includng the login_count that I had previously created. I split the data in training/testing split of 75/25. The models that I used wher mostly out of the box: Logistic Regression, Naive Bayes, Decision Tree, and Random Forest Classifier. \n",
    "Looking at the classification reports the precision of user adoption would be the most valueable for reading the models predictions with the true positive of user adoption being the highest weighted Random Forest Classifier at a score of 92% for user adoption."
   ]
  },
  {
   "cell_type": "markdown",
   "id": "879046ba-47d8-41db-8177-0baab45dc76c",
   "metadata": {},
   "source": [
    "#### Recommendations & Findings"
   ]
  },
  {
   "cell_type": "markdown",
   "id": "dba1f180-6059-41d8-8ae0-78623e4de505",
   "metadata": {},
   "source": [
    "My recommendation would be to use an ensemble model such as Random Forest Classifier, as it seems to be the most suitable model based on the classification report and aligns well with the business objective. In light of the modeling results, it would be beneficial to focus on increasing interest in the mailing list and enhancing support for existing clients who may promote the product to others."
   ]
  },
  {
   "cell_type": "code",
   "execution_count": null,
   "id": "302e770c-f2cf-47d7-8476-580a797f3b52",
   "metadata": {},
   "outputs": [],
   "source": []
  }
 ],
 "metadata": {
  "kernelspec": {
   "display_name": "Python 3 (ipykernel)",
   "language": "python",
   "name": "python3"
  },
  "language_info": {
   "codemirror_mode": {
    "name": "ipython",
    "version": 3
   },
   "file_extension": ".py",
   "mimetype": "text/x-python",
   "name": "python",
   "nbconvert_exporter": "python",
   "pygments_lexer": "ipython3",
   "version": "3.9.12"
  }
 },
 "nbformat": 4,
 "nbformat_minor": 5
}
